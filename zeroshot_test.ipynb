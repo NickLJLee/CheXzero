{
 "cells": [
  {
   "cell_type": "code",
   "execution_count": 1,
   "metadata": {
    "colab": {
     "base_uri": "https://localhost:8080/"
    },
    "id": "uLFS29hnhlY4",
    "outputId": "09abb234-693e-4efb-953f-e1847ba95758"
   },
   "outputs": [],
   "source": [
    "import subprocess\n",
    "import numpy as np\n",
    "import os\n",
    "import sys\n",
    "import pandas as pd\n",
    "import h5py\n",
    "import matplotlib.pyplot as plt\n",
    "from typing import List, Tuple\n",
    "from torch.utils.data import Dataset\n",
    "import torch\n",
    "from torch.utils import data\n",
    "from tqdm.notebook import tqdm\n",
    "import torch.nn as nn\n",
    "\n",
    "import sklearn\n",
    "from sklearn.metrics import confusion_matrix, accuracy_score, auc, roc_auc_score, roc_curve, classification_report\n",
    "from sklearn.metrics import precision_recall_curve, f1_score\n",
    "from sklearn.metrics import average_precision_score\n",
    "\n",
    "from model import CLIP\n",
    "import clip\n",
    "import sklearn\n",
    "from sklearn.metrics import confusion_matrix, accuracy_score, auc, roc_auc_score, roc_curve, classification_report\n",
    "from sklearn.metrics import precision_recall_curve, f1_score\n",
    "from sklearn.metrics import average_precision_score\n",
    "\n",
    "\n",
    "class ECGDataset(Dataset):\n",
    "    def __init__(self, data_path, label_path):\n",
    "        \"\"\"\n",
    "        Args:\n",
    "            data_path (string): 路径到心电图数据的 .npy 文件。\n",
    "            label_path (string): 路径到标签数据的 .npy 文件。\n",
    "        \"\"\"\n",
    "        self.data = np.load(data_path)\n",
    "        self.labels = np.load(label_path).squeeze()\n",
    "\n",
    "        assert self.data.shape[0] == self.labels.shape[0], \\\n",
    "            \"Data and labels must have the same number of samples!\"\n",
    "\n",
    "    def __len__(self):\n",
    "        return self.data.shape[0]\n",
    "\n",
    "    def __getitem__(self, idx):\n",
    "        ecg = torch.tensor(self.data[idx], dtype=torch.float32) * 200\n",
    "        label = torch.tensor(self.labels[idx], dtype=torch.long)\n",
    "        \n",
    "        sample = {'ecg': ecg, 'label':label}\n",
    "        return sample\n",
    "\n",
    "def load_clip(model_path, pretrained=False, context_length=77): \n",
    "    \"\"\"\n",
    "    FUNCTION: load_clip\n",
    "    ---------------------------------\n",
    "    \"\"\"\n",
    "    device = torch.device(\"cuda:0\")\n",
    "    if pretrained is False: \n",
    "        # use new model params\n",
    "        params = {\n",
    "        'context_length': context_length,\n",
    "        'vocab_size': 49408,\n",
    "        'transformer_width': 512,\n",
    "        'transformer_heads': 8,\n",
    "        'transformer_layers': 12\n",
    "        }\n",
    "\n",
    "        model = CLIP(**params)\n",
    "    else: \n",
    "        model, preprocess = clip.load(\"ViT-B/32\", device=device, jit=False) \n",
    "    try: \n",
    "        model.load_state_dict(torch.load(model_path, map_location=device))\n",
    "    except: \n",
    "        print(\"Argument error. Set pretrained = True.\", sys.exc_info()[0])\n",
    "        raise\n",
    "    return model\n",
    "\n",
    "def make(\n",
    "    model_path: str, \n",
    "    cxr_filepath: str, \n",
    "    pretrained: bool = False, \n",
    "    context_length: bool = 77, \n",
    "):\n",
    "    \"\"\"\n",
    "    FUNCTION: make\n",
    "    -------------------------------------------\n",
    "    This function makes the model, the data loader, and the ground truth labels. \n",
    "    \n",
    "    args: \n",
    "        * model_path - String for directory to the weights of the trained clip model. \n",
    "        * context_length - int, max number of tokens of text inputted into the model. \n",
    "        * cxr_filepath - String for path to the chest x-ray images. \n",
    "        * cxr_labels - Python list of labels for a specific zero-shot task. (i.e. ['Atelectasis',...])\n",
    "        * pretrained - bool, whether or not model uses pretrained clip weights\n",
    "        * cutlabels - bool, if True, will keep columns of ground truth labels that correspond\n",
    "        with the labels inputted through `cxr_labels`. Otherwise, drop the first column and keep remaining.\n",
    "    \n",
    "    Returns model, data loader. \n",
    "    \"\"\"\n",
    "    # load model\n",
    "    model = load_clip(\n",
    "        model_path=model_path, \n",
    "        pretrained=False, \n",
    "        context_length=context_length\n",
    "    )\n",
    "\n",
    "    \n",
    "    # create dataset\n",
    "    torch_dset = ECGDataset(data_path=\"/home/ubuntu/code/ECG2TEXT/X_all.npy\", label_path=\"/home/ubuntu/code/ECG2TEXT/y_test.npy\")\n",
    "    \n",
    "    loader = torch.utils.data.DataLoader(torch_dset, shuffle=False)\n",
    "    \n",
    "    return model, loader\n",
    "\n"
   ]
  },
  {
   "cell_type": "code",
   "execution_count": 2,
   "metadata": {
    "colab": {
     "base_uri": "https://localhost:8080/"
    },
    "id": "cboKZocQlSYX",
    "outputId": "240acdd0-ca62-45db-8418-9e4ef73e8aff"
   },
   "outputs": [],
   "source": [
    "model_dir = '/home/ubuntu/code/ECG2TEXT/checkpoints/pt-imp/checkpoint_28000.pt'\n",
    "cxr_filepath = \"/home/ubuntu/code/ECG2TEXT/X_all.npy\"\n",
    "model, loader = make(model_path = model_dir, cxr_filepath = cxr_filepath)"
   ]
  },
  {
   "cell_type": "markdown",
   "metadata": {
    "id": "LhO3OtOmF8M4"
   },
   "source": [
    "# Preparing ImageNet labels and prompts\n",
    "\n",
    "The following cell contains the 1,000 labels for the ImageNet dataset, followed by the text templates we'll use as \"prompt engineering\"."
   ]
  },
  {
   "cell_type": "code",
   "execution_count": 3,
   "metadata": {
    "id": "R2HbOZrqa0jF"
   },
   "outputs": [],
   "source": [
    "imagenet_classes = [\"Normal ECG\",\"Myocardial Infarction\",\"ST/T change\",\"Conduction Disturbance\", \"Hypertrophy\"]"
   ]
  },
  {
   "cell_type": "code",
   "execution_count": 4,
   "metadata": {
    "colab": {
     "base_uri": "https://localhost:8080/"
    },
    "id": "toGtcd-Ji_MD",
    "outputId": "b6eb0753-2bee-4144-abe3-fbd23f35f555"
   },
   "outputs": [
    {
     "name": "stdout",
     "output_type": "stream",
     "text": [
      "5 classes, 1 templates\n"
     ]
    }
   ],
   "source": [
    "imagenet_templates = [\n",
    "    'ECG for diagnosis of {}.'\n",
    "]\n",
    "\n",
    "print(f\"{len(imagenet_classes)} classes, {len(imagenet_templates)} templates\")"
   ]
  },
  {
   "cell_type": "markdown",
   "metadata": {
    "id": "fz6D-F-Wbrtp"
   },
   "source": [
    "# Creating zero-shot classifier weights"
   ]
  },
  {
   "cell_type": "code",
   "execution_count": null,
   "metadata": {
    "colab": {
     "base_uri": "https://localhost:8080/",
     "height": 67,
     "referenced_widgets": [
      "66a1639713ae441d8a9b873381f9d774",
      "610b775178c645e2b4663b77cc0c67b6",
      "412dd15f0d8542f5ab2730f8616fb582",
      "5e6315f36b4e4eeea5c6294b024e0c97",
      "085d5388abda4202bfa66d0c088452f8",
      "f75124b64aa147c693c67a78f8e3a231",
      "6e5676a054874243b55fc6d120a07d01",
      "dc6d1416c01a4047935ee15c3fd2eb1c"
     ]
    },
    "id": "sRqDoz1Gbsii",
    "outputId": "312b8ebf-3961-4903-d8cb-3b7a94cc97b6"
   },
   "outputs": [
    {
     "data": {
      "application/vnd.jupyter.widget-view+json": {
       "model_id": "756548c4bcda4e7697f4f8808787caf8",
       "version_major": 2,
       "version_minor": 0
      },
      "text/plain": [
       "  0%|          | 0/5 [00:00<?, ?it/s]"
      ]
     },
     "metadata": {},
     "output_type": "display_data"
    },
    {
     "name": "stdout",
     "output_type": "stream",
     "text": [
      "0\n",
      "1\n",
      "2\n"
     ]
    }
   ],
   "source": [
    "def zeroshot_classifier(classnames, templates):\n",
    "    with torch.no_grad():\n",
    "        zeroshot_weights = []\n",
    "        for classname in tqdm(classnames):\n",
    "            print(0)\n",
    "            texts = [template.format(classname) for template in templates] #format with class\\\n",
    "            print(1)\n",
    "            texts = clip.tokenize(texts).cuda() #tokenize\n",
    "            print(2)\n",
    "            class_embeddings = model.encode_text(texts) #embed with text encoder\n",
    "            class_embeddings /= class_embeddings.norm(dim=-1, keepdim=True)\n",
    "            class_embedding = class_embeddings.mean(dim=0)\n",
    "            class_embedding /= class_embedding.norm()\n",
    "            zeroshot_weights.append(class_embedding)\n",
    "        zeroshot_weights = torch.stack(zeroshot_weights, dim=1).cuda()\n",
    "    return zeroshot_weights\n",
    "\n",
    "\n",
    "zeroshot_weights = zeroshot_classifier(imagenet_classes, imagenet_templates)"
   ]
  },
  {
   "cell_type": "markdown",
   "metadata": {
    "id": "1fZo7hG8iJP5"
   },
   "source": [
    "# Zero-shot prediction"
   ]
  },
  {
   "cell_type": "code",
   "execution_count": null,
   "metadata": {
    "id": "j4kPSZoShQxN"
   },
   "outputs": [],
   "source": [
    "def accuracy(output, target, topk=(1,)):\n",
    "    pred = output.topk(max(topk), 1, True, True)[1].t()\n",
    "    correct = pred.eq(target.view(1, -1).expand_as(pred))\n",
    "    return [float(correct[:k].reshape(-1).float().sum(0, keepdim=True).cpu().numpy()) for k in topk]"
   ]
  },
  {
   "cell_type": "code",
   "execution_count": null,
   "metadata": {
    "colab": {
     "base_uri": "https://localhost:8080/",
     "height": 102,
     "referenced_widgets": [
      "84f80a7f3e764346969a347b0f71b24e",
      "392656f01b2945f3bd7903783ed8cc96",
      "8e47a435519b4ce090879b4be2f61f99",
      "41b1ed6b0a9745c1a595377670b15ff4",
      "179b8ae1eb7f4a828f953e889b141725",
      "d8708e8414fd44f4abd6590c9b57996f",
      "800e30f5b4f24475a2b0046da0703631",
      "8764308b948745f1a677332fd21fcaf0"
     ]
    },
    "id": "wKJ7YsdlkDXo",
    "outputId": "ab824854-38e4-4d37-ad40-2a7ce3c5fd43"
   },
   "outputs": [],
   "source": [
    "with torch.no_grad():\n",
    "    top1, top5, n = 0., 0., 0.\n",
    "    for data in enumerate(tqdm(loader)):\n",
    "        images = data['ecg']\n",
    "        target = data['label']\n",
    "        \n",
    "        # predict\n",
    "        image_features = model.encode_image(images)\n",
    "        image_features /= image_features.norm(dim=-1, keepdim=True)\n",
    "        logits = 100. * image_features @ zeroshot_weights\n",
    "\n",
    "        # measure accuracy\n",
    "        acc1, acc5 = accuracy(logits, target, topk=(1, 5))\n",
    "        top1 += acc1\n",
    "        top5 += acc5\n",
    "        n += images.size(0)\n",
    "\n",
    "top1 = (top1 / n) * 100\n",
    "top5 = (top5 / n) * 100 \n",
    "\n",
    "print(f\"Top-1 accuracy: {top1:.2f}\")\n",
    "print(f\"Top-5 accuracy: {top5:.2f}\")"
   ]
  },
  {
   "cell_type": "code",
   "execution_count": null,
   "metadata": {},
   "outputs": [],
   "source": []
  }
 ],
 "metadata": {
  "accelerator": "GPU",
  "colab": {
   "collapsed_sections": [],
   "name": "Prompt Engineering for ImageNet.ipynb",
   "provenance": []
  },
  "kernelspec": {
   "display_name": "Python 3 (ipykernel)",
   "language": "python",
   "name": "python3"
  },
  "language_info": {
   "codemirror_mode": {
    "name": "ipython",
    "version": 3
   },
   "file_extension": ".py",
   "mimetype": "text/x-python",
   "name": "python",
   "nbconvert_exporter": "python",
   "pygments_lexer": "ipython3",
   "version": "3.8.17"
  },
  "widgets": {
   "application/vnd.jupyter.widget-state+json": {
    "085d5388abda4202bfa66d0c088452f8": {
     "model_module": "@jupyter-widgets/controls",
     "model_name": "ProgressStyleModel",
     "state": {
      "_model_module": "@jupyter-widgets/controls",
      "_model_module_version": "1.5.0",
      "_model_name": "ProgressStyleModel",
      "_view_count": null,
      "_view_module": "@jupyter-widgets/base",
      "_view_module_version": "1.2.0",
      "_view_name": "StyleView",
      "bar_color": null,
      "description_width": "initial"
     }
    },
    "179b8ae1eb7f4a828f953e889b141725": {
     "model_module": "@jupyter-widgets/controls",
     "model_name": "ProgressStyleModel",
     "state": {
      "_model_module": "@jupyter-widgets/controls",
      "_model_module_version": "1.5.0",
      "_model_name": "ProgressStyleModel",
      "_view_count": null,
      "_view_module": "@jupyter-widgets/base",
      "_view_module_version": "1.2.0",
      "_view_name": "StyleView",
      "bar_color": null,
      "description_width": "initial"
     }
    },
    "392656f01b2945f3bd7903783ed8cc96": {
     "model_module": "@jupyter-widgets/base",
     "model_name": "LayoutModel",
     "state": {
      "_model_module": "@jupyter-widgets/base",
      "_model_module_version": "1.2.0",
      "_model_name": "LayoutModel",
      "_view_count": null,
      "_view_module": "@jupyter-widgets/base",
      "_view_module_version": "1.2.0",
      "_view_name": "LayoutView",
      "align_content": null,
      "align_items": null,
      "align_self": null,
      "border": null,
      "bottom": null,
      "display": null,
      "flex": null,
      "flex_flow": null,
      "grid_area": null,
      "grid_auto_columns": null,
      "grid_auto_flow": null,
      "grid_auto_rows": null,
      "grid_column": null,
      "grid_gap": null,
      "grid_row": null,
      "grid_template_areas": null,
      "grid_template_columns": null,
      "grid_template_rows": null,
      "height": null,
      "justify_content": null,
      "justify_items": null,
      "left": null,
      "margin": null,
      "max_height": null,
      "max_width": null,
      "min_height": null,
      "min_width": null,
      "object_fit": null,
      "object_position": null,
      "order": null,
      "overflow": null,
      "overflow_x": null,
      "overflow_y": null,
      "padding": null,
      "right": null,
      "top": null,
      "visibility": null,
      "width": null
     }
    },
    "412dd15f0d8542f5ab2730f8616fb582": {
     "model_module": "@jupyter-widgets/controls",
     "model_name": "FloatProgressModel",
     "state": {
      "_dom_classes": [],
      "_model_module": "@jupyter-widgets/controls",
      "_model_module_version": "1.5.0",
      "_model_name": "FloatProgressModel",
      "_view_count": null,
      "_view_module": "@jupyter-widgets/controls",
      "_view_module_version": "1.5.0",
      "_view_name": "ProgressView",
      "bar_style": "success",
      "description": "100%",
      "description_tooltip": null,
      "layout": "IPY_MODEL_f75124b64aa147c693c67a78f8e3a231",
      "max": 1000,
      "min": 0,
      "orientation": "horizontal",
      "style": "IPY_MODEL_085d5388abda4202bfa66d0c088452f8",
      "value": 1000
     }
    },
    "41b1ed6b0a9745c1a595377670b15ff4": {
     "model_module": "@jupyter-widgets/controls",
     "model_name": "HTMLModel",
     "state": {
      "_dom_classes": [],
      "_model_module": "@jupyter-widgets/controls",
      "_model_module_version": "1.5.0",
      "_model_name": "HTMLModel",
      "_view_count": null,
      "_view_module": "@jupyter-widgets/controls",
      "_view_module_version": "1.5.0",
      "_view_name": "HTMLView",
      "description": "",
      "description_tooltip": null,
      "layout": "IPY_MODEL_8764308b948745f1a677332fd21fcaf0",
      "placeholder": "​",
      "style": "IPY_MODEL_800e30f5b4f24475a2b0046da0703631",
      "value": " 313/313 [02:31&lt;00:00,  2.07it/s]"
     }
    },
    "5e6315f36b4e4eeea5c6294b024e0c97": {
     "model_module": "@jupyter-widgets/controls",
     "model_name": "HTMLModel",
     "state": {
      "_dom_classes": [],
      "_model_module": "@jupyter-widgets/controls",
      "_model_module_version": "1.5.0",
      "_model_name": "HTMLModel",
      "_view_count": null,
      "_view_module": "@jupyter-widgets/controls",
      "_view_module_version": "1.5.0",
      "_view_name": "HTMLView",
      "description": "",
      "description_tooltip": null,
      "layout": "IPY_MODEL_dc6d1416c01a4047935ee15c3fd2eb1c",
      "placeholder": "​",
      "style": "IPY_MODEL_6e5676a054874243b55fc6d120a07d01",
      "value": " 1000/1000 [16:51&lt;00:00,  1.01s/it]"
     }
    },
    "610b775178c645e2b4663b77cc0c67b6": {
     "model_module": "@jupyter-widgets/base",
     "model_name": "LayoutModel",
     "state": {
      "_model_module": "@jupyter-widgets/base",
      "_model_module_version": "1.2.0",
      "_model_name": "LayoutModel",
      "_view_count": null,
      "_view_module": "@jupyter-widgets/base",
      "_view_module_version": "1.2.0",
      "_view_name": "LayoutView",
      "align_content": null,
      "align_items": null,
      "align_self": null,
      "border": null,
      "bottom": null,
      "display": null,
      "flex": null,
      "flex_flow": null,
      "grid_area": null,
      "grid_auto_columns": null,
      "grid_auto_flow": null,
      "grid_auto_rows": null,
      "grid_column": null,
      "grid_gap": null,
      "grid_row": null,
      "grid_template_areas": null,
      "grid_template_columns": null,
      "grid_template_rows": null,
      "height": null,
      "justify_content": null,
      "justify_items": null,
      "left": null,
      "margin": null,
      "max_height": null,
      "max_width": null,
      "min_height": null,
      "min_width": null,
      "object_fit": null,
      "object_position": null,
      "order": null,
      "overflow": null,
      "overflow_x": null,
      "overflow_y": null,
      "padding": null,
      "right": null,
      "top": null,
      "visibility": null,
      "width": null
     }
    },
    "66a1639713ae441d8a9b873381f9d774": {
     "model_module": "@jupyter-widgets/controls",
     "model_name": "HBoxModel",
     "state": {
      "_dom_classes": [],
      "_model_module": "@jupyter-widgets/controls",
      "_model_module_version": "1.5.0",
      "_model_name": "HBoxModel",
      "_view_count": null,
      "_view_module": "@jupyter-widgets/controls",
      "_view_module_version": "1.5.0",
      "_view_name": "HBoxView",
      "box_style": "",
      "children": [
       "IPY_MODEL_412dd15f0d8542f5ab2730f8616fb582",
       "IPY_MODEL_5e6315f36b4e4eeea5c6294b024e0c97"
      ],
      "layout": "IPY_MODEL_610b775178c645e2b4663b77cc0c67b6"
     }
    },
    "6e5676a054874243b55fc6d120a07d01": {
     "model_module": "@jupyter-widgets/controls",
     "model_name": "DescriptionStyleModel",
     "state": {
      "_model_module": "@jupyter-widgets/controls",
      "_model_module_version": "1.5.0",
      "_model_name": "DescriptionStyleModel",
      "_view_count": null,
      "_view_module": "@jupyter-widgets/base",
      "_view_module_version": "1.2.0",
      "_view_name": "StyleView",
      "description_width": ""
     }
    },
    "800e30f5b4f24475a2b0046da0703631": {
     "model_module": "@jupyter-widgets/controls",
     "model_name": "DescriptionStyleModel",
     "state": {
      "_model_module": "@jupyter-widgets/controls",
      "_model_module_version": "1.5.0",
      "_model_name": "DescriptionStyleModel",
      "_view_count": null,
      "_view_module": "@jupyter-widgets/base",
      "_view_module_version": "1.2.0",
      "_view_name": "StyleView",
      "description_width": ""
     }
    },
    "84f80a7f3e764346969a347b0f71b24e": {
     "model_module": "@jupyter-widgets/controls",
     "model_name": "HBoxModel",
     "state": {
      "_dom_classes": [],
      "_model_module": "@jupyter-widgets/controls",
      "_model_module_version": "1.5.0",
      "_model_name": "HBoxModel",
      "_view_count": null,
      "_view_module": "@jupyter-widgets/controls",
      "_view_module_version": "1.5.0",
      "_view_name": "HBoxView",
      "box_style": "",
      "children": [
       "IPY_MODEL_8e47a435519b4ce090879b4be2f61f99",
       "IPY_MODEL_41b1ed6b0a9745c1a595377670b15ff4"
      ],
      "layout": "IPY_MODEL_392656f01b2945f3bd7903783ed8cc96"
     }
    },
    "8764308b948745f1a677332fd21fcaf0": {
     "model_module": "@jupyter-widgets/base",
     "model_name": "LayoutModel",
     "state": {
      "_model_module": "@jupyter-widgets/base",
      "_model_module_version": "1.2.0",
      "_model_name": "LayoutModel",
      "_view_count": null,
      "_view_module": "@jupyter-widgets/base",
      "_view_module_version": "1.2.0",
      "_view_name": "LayoutView",
      "align_content": null,
      "align_items": null,
      "align_self": null,
      "border": null,
      "bottom": null,
      "display": null,
      "flex": null,
      "flex_flow": null,
      "grid_area": null,
      "grid_auto_columns": null,
      "grid_auto_flow": null,
      "grid_auto_rows": null,
      "grid_column": null,
      "grid_gap": null,
      "grid_row": null,
      "grid_template_areas": null,
      "grid_template_columns": null,
      "grid_template_rows": null,
      "height": null,
      "justify_content": null,
      "justify_items": null,
      "left": null,
      "margin": null,
      "max_height": null,
      "max_width": null,
      "min_height": null,
      "min_width": null,
      "object_fit": null,
      "object_position": null,
      "order": null,
      "overflow": null,
      "overflow_x": null,
      "overflow_y": null,
      "padding": null,
      "right": null,
      "top": null,
      "visibility": null,
      "width": null
     }
    },
    "8e47a435519b4ce090879b4be2f61f99": {
     "model_module": "@jupyter-widgets/controls",
     "model_name": "FloatProgressModel",
     "state": {
      "_dom_classes": [],
      "_model_module": "@jupyter-widgets/controls",
      "_model_module_version": "1.5.0",
      "_model_name": "FloatProgressModel",
      "_view_count": null,
      "_view_module": "@jupyter-widgets/controls",
      "_view_module_version": "1.5.0",
      "_view_name": "ProgressView",
      "bar_style": "success",
      "description": "100%",
      "description_tooltip": null,
      "layout": "IPY_MODEL_d8708e8414fd44f4abd6590c9b57996f",
      "max": 313,
      "min": 0,
      "orientation": "horizontal",
      "style": "IPY_MODEL_179b8ae1eb7f4a828f953e889b141725",
      "value": 313
     }
    },
    "d8708e8414fd44f4abd6590c9b57996f": {
     "model_module": "@jupyter-widgets/base",
     "model_name": "LayoutModel",
     "state": {
      "_model_module": "@jupyter-widgets/base",
      "_model_module_version": "1.2.0",
      "_model_name": "LayoutModel",
      "_view_count": null,
      "_view_module": "@jupyter-widgets/base",
      "_view_module_version": "1.2.0",
      "_view_name": "LayoutView",
      "align_content": null,
      "align_items": null,
      "align_self": null,
      "border": null,
      "bottom": null,
      "display": null,
      "flex": null,
      "flex_flow": null,
      "grid_area": null,
      "grid_auto_columns": null,
      "grid_auto_flow": null,
      "grid_auto_rows": null,
      "grid_column": null,
      "grid_gap": null,
      "grid_row": null,
      "grid_template_areas": null,
      "grid_template_columns": null,
      "grid_template_rows": null,
      "height": null,
      "justify_content": null,
      "justify_items": null,
      "left": null,
      "margin": null,
      "max_height": null,
      "max_width": null,
      "min_height": null,
      "min_width": null,
      "object_fit": null,
      "object_position": null,
      "order": null,
      "overflow": null,
      "overflow_x": null,
      "overflow_y": null,
      "padding": null,
      "right": null,
      "top": null,
      "visibility": null,
      "width": null
     }
    },
    "dc6d1416c01a4047935ee15c3fd2eb1c": {
     "model_module": "@jupyter-widgets/base",
     "model_name": "LayoutModel",
     "state": {
      "_model_module": "@jupyter-widgets/base",
      "_model_module_version": "1.2.0",
      "_model_name": "LayoutModel",
      "_view_count": null,
      "_view_module": "@jupyter-widgets/base",
      "_view_module_version": "1.2.0",
      "_view_name": "LayoutView",
      "align_content": null,
      "align_items": null,
      "align_self": null,
      "border": null,
      "bottom": null,
      "display": null,
      "flex": null,
      "flex_flow": null,
      "grid_area": null,
      "grid_auto_columns": null,
      "grid_auto_flow": null,
      "grid_auto_rows": null,
      "grid_column": null,
      "grid_gap": null,
      "grid_row": null,
      "grid_template_areas": null,
      "grid_template_columns": null,
      "grid_template_rows": null,
      "height": null,
      "justify_content": null,
      "justify_items": null,
      "left": null,
      "margin": null,
      "max_height": null,
      "max_width": null,
      "min_height": null,
      "min_width": null,
      "object_fit": null,
      "object_position": null,
      "order": null,
      "overflow": null,
      "overflow_x": null,
      "overflow_y": null,
      "padding": null,
      "right": null,
      "top": null,
      "visibility": null,
      "width": null
     }
    },
    "f75124b64aa147c693c67a78f8e3a231": {
     "model_module": "@jupyter-widgets/base",
     "model_name": "LayoutModel",
     "state": {
      "_model_module": "@jupyter-widgets/base",
      "_model_module_version": "1.2.0",
      "_model_name": "LayoutModel",
      "_view_count": null,
      "_view_module": "@jupyter-widgets/base",
      "_view_module_version": "1.2.0",
      "_view_name": "LayoutView",
      "align_content": null,
      "align_items": null,
      "align_self": null,
      "border": null,
      "bottom": null,
      "display": null,
      "flex": null,
      "flex_flow": null,
      "grid_area": null,
      "grid_auto_columns": null,
      "grid_auto_flow": null,
      "grid_auto_rows": null,
      "grid_column": null,
      "grid_gap": null,
      "grid_row": null,
      "grid_template_areas": null,
      "grid_template_columns": null,
      "grid_template_rows": null,
      "height": null,
      "justify_content": null,
      "justify_items": null,
      "left": null,
      "margin": null,
      "max_height": null,
      "max_width": null,
      "min_height": null,
      "min_width": null,
      "object_fit": null,
      "object_position": null,
      "order": null,
      "overflow": null,
      "overflow_x": null,
      "overflow_y": null,
      "padding": null,
      "right": null,
      "top": null,
      "visibility": null,
      "width": null
     }
    }
   }
  }
 },
 "nbformat": 4,
 "nbformat_minor": 4
}
